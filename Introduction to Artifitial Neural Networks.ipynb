{
 "cells": [
  {
   "cell_type": "code",
   "execution_count": 1,
   "metadata": {
    "collapsed": true
   },
   "outputs": [],
   "source": [
    "# To support both python 2 and python 3\n",
    "from __future__ import division, print_function, unicode_literals\n",
    "\n",
    "# Common imports\n",
    "import numpy as np\n",
    "import os\n",
    "\n",
    "# to make this notebook's output stable across runs\n",
    "def reset_graph(seed=42):\n",
    "    tf.reset_default_graph()\n",
    "    tf.set_random_seed(seed)\n",
    "    np.random.seed(seed)\n",
    "\n",
    "# To plot pretty figures\n",
    "%matplotlib inline\n",
    "import matplotlib\n",
    "import matplotlib.pyplot as plt\n",
    "plt.rcParams['axes.labelsize'] = 14\n",
    "plt.rcParams['xtick.labelsize'] = 12\n",
    "plt.rcParams['ytick.labelsize'] = 12\n",
    "\n",
    "# Where to save the figures\n",
    "PROJECT_ROOT_DIR = \".\"\n",
    "CHAPTER_ID = \"ann\"\n",
    "\n",
    "def save_fig(fig_id, tight_layout=True):\n",
    "    path = os.path.join(PROJECT_ROOT_DIR, \"images\", CHAPTER_ID, fig_id + \".png\")\n",
    "    print(\"Saving figure\", fig_id)\n",
    "    if tight_layout:\n",
    "        plt.tight_layout()\n",
    "    plt.savefig(path, format='png', dpi=300)"
   ]
  },
  {
   "cell_type": "markdown",
   "metadata": {},
   "source": [
    "## Perceptron"
   ]
  },
  {
   "cell_type": "markdown",
   "metadata": {},
   "source": [
    "### Perceptron with iris dataset"
   ]
  },
  {
   "cell_type": "code",
   "execution_count": 3,
   "metadata": {
    "collapsed": true
   },
   "outputs": [],
   "source": [
    "import numpy as np\n",
    "from sklearn.datasets import load_iris\n",
    "from sklearn.linear_model import Perceptron"
   ]
  },
  {
   "cell_type": "code",
   "execution_count": 4,
   "metadata": {},
   "outputs": [
    {
     "name": "stdout",
     "output_type": "stream",
     "text": [
      "[0 0 0 0 0 0 0 0 0 0 0 0 0 0 0 0 0 0 0 0 0 0 0 0 0 0 0 0 0 0 0 0 0 0 0 0 0\n",
      " 0 0 0 0 0 0 0 0 0 0 0 0 0 1 1 1 1 1 1 1 1 1 1 1 1 1 1 1 1 1 1 1 1 1 1 1 1\n",
      " 1 1 1 1 1 1 1 1 1 1 1 1 1 1 1 1 1 1 1 1 1 1 1 1 1 1 2 2 2 2 2 2 2 2 2 2 2\n",
      " 2 2 2 2 2 2 2 2 2 2 2 2 2 2 2 2 2 2 2 2 2 2 2 2 2 2 2 2 2 2 2 2 2 2 2 2 2\n",
      " 2 2]\n"
     ]
    }
   ],
   "source": [
    "iris = load_iris()\n",
    "X = iris.data[:,(2,3)] #petal lenght, petal width\n",
    "y = (iris.target == 0).astype(np.int)\n",
    "print(iris.target)"
   ]
  },
  {
   "cell_type": "code",
   "execution_count": 5,
   "metadata": {
    "collapsed": true
   },
   "outputs": [],
   "source": [
    "per_clf = Perceptron(random_state=42)"
   ]
  },
  {
   "cell_type": "code",
   "execution_count": 6,
   "metadata": {},
   "outputs": [
    {
     "data": {
      "text/plain": [
       "Perceptron(alpha=0.0001, class_weight=None, eta0=1.0, fit_intercept=True,\n",
       "      n_iter=5, n_jobs=1, penalty=None, random_state=42, shuffle=True,\n",
       "      verbose=0, warm_start=False)"
      ]
     },
     "execution_count": 6,
     "metadata": {},
     "output_type": "execute_result"
    }
   ],
   "source": [
    "per_clf.fit(X,y)"
   ]
  },
  {
   "cell_type": "code",
   "execution_count": 7,
   "metadata": {
    "collapsed": true
   },
   "outputs": [],
   "source": [
    "y_pred = per_clf.predict([[2,0.5]])"
   ]
  },
  {
   "cell_type": "code",
   "execution_count": 8,
   "metadata": {},
   "outputs": [
    {
     "name": "stdout",
     "output_type": "stream",
     "text": [
      "[1]\n"
     ]
    }
   ],
   "source": [
    "print(y_pred)"
   ]
  },
  {
   "cell_type": "code",
   "execution_count": 37,
   "metadata": {},
   "outputs": [
    {
     "name": "stdout",
     "output_type": "stream",
     "text": [
      "Saving figure perceptron_iris_plot\n"
     ]
    },
    {
     "data": {
      "image/png": "[encoded data removed]",
      "text/plain": [
       "<matplotlib.figure.Figure at 0x7ff543762e48>"
      ]
     },
     "metadata": {},
     "output_type": "display_data"
    }
   ],
   "source": [
    "a = -per_clf.coef_[0][0] / per_clf.coef_[0][1]\n",
    "b = -per_clf.intercept_ / per_clf.coef_[0][1]\n",
    "\n",
    "axes = [0, 5, 0, 2]\n",
    "\n",
    "x0, x1 = np.meshgrid(\n",
    "        np.linspace(axes[0], axes[1], 500).reshape(-1, 1),\n",
    "        np.linspace(axes[2], axes[3], 200).reshape(-1, 1),\n",
    "    )\n",
    "X_new = np.c_[x0.ravel(), x1.ravel()]\n",
    "y_predict = per_clf.predict(X_new)\n",
    "zz = y_predict.reshape(x0.shape)\n",
    "\n",
    "plt.figure(figsize=(10, 4))\n",
    "plt.plot(X[y==0, 0], X[y==0, 1], \"bs\", label=\"Not Iris-Setosa\")\n",
    "plt.plot(X[y==1, 0], X[y==1, 1], \"yo\", label=\"Iris-Setosa\")\n",
    "\n",
    "plt.plot([axes[0], axes[1]], [a * axes[0] + b, a * axes[1] + b], \"k-\", linewidth=3)\n",
    "from matplotlib.colors import ListedColormap\n",
    "custom_cmap = ListedColormap(['#9898ff', '#fafab0'])\n",
    "\n",
    "plt.contourf(x0, x1, zz, cmap=custom_cmap, linewidth=5)\n",
    "plt.xlabel(\"Petal length\", fontsize=14)\n",
    "plt.ylabel(\"Petal width\", fontsize=14)\n",
    "plt.legend(loc=\"lower right\", fontsize=14)\n",
    "plt.axis(axes)\n",
    "\n",
    "save_fig(\"perceptron_iris_plot\")\n",
    "plt.show()"
   ]
  },
  {
   "cell_type": "markdown",
   "metadata": {
    "collapsed": true
   },
   "source": [
    "### Training an MLP with TensorFlow's High-level API"
   ]
  },
  {
   "cell_type": "code",
   "execution_count": 38,
   "metadata": {},
   "outputs": [
    {
     "name": "stdout",
     "output_type": "stream",
     "text": [
      "Successfully downloaded train-images-idx3-ubyte.gz 9912422 bytes.\n",
      "Extracting /tmp/data/train-images-idx3-ubyte.gz\n",
      "Successfully downloaded train-labels-idx1-ubyte.gz 28881 bytes.\n",
      "Extracting /tmp/data/train-labels-idx1-ubyte.gz\n",
      "Successfully downloaded t10k-images-idx3-ubyte.gz 1648877 bytes.\n",
      "Extracting /tmp/data/t10k-images-idx3-ubyte.gz\n",
      "Successfully downloaded t10k-labels-idx1-ubyte.gz 4542 bytes.\n",
      "Extracting /tmp/data/t10k-labels-idx1-ubyte.gz\n"
     ]
    }
   ],
   "source": [
    "from tensorflow.examples.tutorials.mnist import input_data\n",
    "\n",
    "mnist = input_data.read_data_sets(\"/tmp/data/\")"
   ]
  },
  {
   "cell_type": "code",
   "execution_count": 39,
   "metadata": {
    "collapsed": true
   },
   "outputs": [],
   "source": [
    "X_train = mnist.train.images\n",
    "X_test = mnist.test.images\n",
    "y_train = mnist.train.labels.astype(\"int\")\n",
    "y_test = mnist.test.labels.astype(\"int\")"
   ]
  },
  {
   "cell_type": "code",
   "execution_count": 46,
   "metadata": {},
   "outputs": [
    {
     "name": "stdout",
     "output_type": "stream",
     "text": [
      "WARNING:tensorflow:Using temporary folder as model directory: /tmp/tmpybjtcisk\n",
      "INFO:tensorflow:Using config: {'_task_type': None, '_task_id': 0, '_cluster_spec': <tensorflow.python.training.server_lib.ClusterSpec object at 0x7ff559f49f60>, '_master': '', '_num_ps_replicas': 0, '_num_worker_replicas': 0, '_environment': 'local', '_is_chief': True, '_evaluation_master': '', '_tf_config': gpu_options {\n",
      "  per_process_gpu_memory_fraction: 1.0\n",
      "}\n",
      ", '_tf_random_seed': 42, '_save_summary_steps': 100, '_save_checkpoints_secs': 600, '_session_config': None, '_save_checkpoints_steps': None, '_keep_checkpoint_max': 5, '_keep_checkpoint_every_n_hours': 10000, '_model_dir': '/tmp/tmpybjtcisk'}\n",
      "WARNING:tensorflow:From /home/nacho/anaconda3/envs/nlp/lib/python3.6/site-packages/tensorflow/contrib/learn/python/learn/estimators/head.py:625: scalar_summary (from tensorflow.python.ops.logging_ops) is deprecated and will be removed after 2016-11-30.\n",
      "Instructions for updating:\n",
      "Please switch to tf.summary.scalar. Note that tf.summary.scalar uses the node name instead of the tag. This means that TensorFlow will automatically de-duplicate summary names based on the scope they are created in. Also, passing a tensor or list of tags to a scalar summary op is no longer supported.\n",
      "INFO:tensorflow:Create CheckpointSaverHook.\n",
      "INFO:tensorflow:Saving checkpoints for 1 into /tmp/tmpybjtcisk/model.ckpt.\n",
      "INFO:tensorflow:loss = 2.33852, step = 1\n",
      "INFO:tensorflow:global_step/sec: 122.48\n",
      "INFO:tensorflow:loss = 0.343985, step = 101 (0.817 sec)\n",
      "INFO:tensorflow:global_step/sec: 95.2229\n",
      "INFO:tensorflow:loss = 0.294568, step = 201 (1.050 sec)\n",
      "INFO:tensorflow:global_step/sec: 115.16\n",
      "INFO:tensorflow:loss = 0.285501, step = 301 (0.868 sec)\n",
      "INFO:tensorflow:global_step/sec: 111.933\n",
      "INFO:tensorflow:loss = 0.222007, step = 401 (0.893 sec)\n",
      "INFO:tensorflow:global_step/sec: 114.189\n",
      "INFO:tensorflow:loss = 0.180248, step = 501 (0.876 sec)\n",
      "INFO:tensorflow:global_step/sec: 101.675\n",
      "INFO:tensorflow:loss = 0.112741, step = 601 (0.983 sec)\n",
      "INFO:tensorflow:global_step/sec: 103.289\n",
      "INFO:tensorflow:loss = 0.107716, step = 701 (0.968 sec)\n",
      "INFO:tensorflow:global_step/sec: 97.9837\n",
      "INFO:tensorflow:loss = 0.120543, step = 801 (1.021 sec)\n",
      "INFO:tensorflow:global_step/sec: 96.8101\n",
      "INFO:tensorflow:loss = 0.124292, step = 901 (1.033 sec)\n",
      "INFO:tensorflow:global_step/sec: 100.604\n",
      "INFO:tensorflow:loss = 0.113759, step = 1001 (0.994 sec)\n",
      "INFO:tensorflow:global_step/sec: 100.327\n",
      "INFO:tensorflow:loss = 0.14813, step = 1101 (0.997 sec)\n",
      "INFO:tensorflow:global_step/sec: 105.62\n",
      "INFO:tensorflow:loss = 0.0725174, step = 1201 (0.947 sec)\n",
      "INFO:tensorflow:global_step/sec: 105.367\n",
      "INFO:tensorflow:loss = 0.0415813, step = 1301 (0.949 sec)\n",
      "INFO:tensorflow:global_step/sec: 106.162\n",
      "INFO:tensorflow:loss = 0.0724433, step = 1401 (0.942 sec)\n",
      "INFO:tensorflow:global_step/sec: 106.846\n",
      "INFO:tensorflow:loss = 0.0529565, step = 1501 (0.936 sec)\n",
      "INFO:tensorflow:global_step/sec: 75.9708\n",
      "INFO:tensorflow:loss = 0.0603529, step = 1601 (1.316 sec)\n",
      "INFO:tensorflow:global_step/sec: 98.1376\n",
      "INFO:tensorflow:loss = 0.158448, step = 1701 (1.019 sec)\n",
      "INFO:tensorflow:global_step/sec: 97.298\n",
      "INFO:tensorflow:loss = 0.120982, step = 1801 (1.028 sec)\n",
      "INFO:tensorflow:global_step/sec: 102.257\n",
      "INFO:tensorflow:loss = 0.0257616, step = 1901 (0.978 sec)\n",
      "INFO:tensorflow:global_step/sec: 110.1\n",
      "INFO:tensorflow:loss = 0.171408, step = 2001 (0.908 sec)\n",
      "INFO:tensorflow:global_step/sec: 106.48\n",
      "INFO:tensorflow:loss = 0.0523742, step = 2101 (0.939 sec)\n",
      "INFO:tensorflow:global_step/sec: 82.6528\n",
      "INFO:tensorflow:loss = 0.102644, step = 2201 (1.210 sec)\n",
      "INFO:tensorflow:global_step/sec: 104.033\n",
      "INFO:tensorflow:loss = 0.0555394, step = 2301 (0.961 sec)\n",
      "INFO:tensorflow:global_step/sec: 98.517\n",
      "INFO:tensorflow:loss = 0.134487, step = 2401 (1.015 sec)\n",
      "INFO:tensorflow:global_step/sec: 98.6238\n",
      "INFO:tensorflow:loss = 0.0848233, step = 2501 (1.014 sec)\n",
      "INFO:tensorflow:global_step/sec: 100.878\n",
      "INFO:tensorflow:loss = 0.0453745, step = 2601 (0.991 sec)\n",
      "INFO:tensorflow:global_step/sec: 86.7731\n",
      "INFO:tensorflow:loss = 0.0799711, step = 2701 (1.153 sec)\n",
      "INFO:tensorflow:global_step/sec: 80.1097\n",
      "INFO:tensorflow:loss = 0.0641908, step = 2801 (1.248 sec)\n",
      "INFO:tensorflow:global_step/sec: 76.5115\n",
      "INFO:tensorflow:loss = 0.0357586, step = 2901 (1.308 sec)\n",
      "INFO:tensorflow:global_step/sec: 74.0086\n",
      "INFO:tensorflow:loss = 0.0876108, step = 3001 (1.353 sec)\n",
      "INFO:tensorflow:global_step/sec: 66.0679\n",
      "INFO:tensorflow:loss = 0.0342086, step = 3101 (1.511 sec)\n",
      "INFO:tensorflow:global_step/sec: 87.5679\n",
      "INFO:tensorflow:loss = 0.0382235, step = 3201 (1.142 sec)\n",
      "INFO:tensorflow:global_step/sec: 85.556\n",
      "INFO:tensorflow:loss = 0.0408935, step = 3301 (1.169 sec)\n",
      "INFO:tensorflow:global_step/sec: 73.8913\n",
      "INFO:tensorflow:loss = 0.0458456, step = 3401 (1.353 sec)\n",
      "INFO:tensorflow:global_step/sec: 77.2532\n",
      "INFO:tensorflow:loss = 0.047817, step = 3501 (1.299 sec)\n",
      "INFO:tensorflow:global_step/sec: 97.7261\n",
      "INFO:tensorflow:loss = 0.0611513, step = 3601 (1.019 sec)\n",
      "INFO:tensorflow:global_step/sec: 90.173\n",
      "INFO:tensorflow:loss = 0.035848, step = 3701 (1.109 sec)\n",
      "INFO:tensorflow:global_step/sec: 88.4081\n",
      "INFO:tensorflow:loss = 0.0412431, step = 3801 (1.131 sec)\n",
      "INFO:tensorflow:global_step/sec: 79.7851\n",
      "INFO:tensorflow:loss = 0.0107317, step = 3901 (1.253 sec)\n",
      "INFO:tensorflow:Saving checkpoints for 4000 into /tmp/tmpybjtcisk/model.ckpt.\n",
      "INFO:tensorflow:Loss for final step: 0.0231393.\n"
     ]
    },
    {
     "data": {
      "text/plain": [
       "SKCompat()"
      ]
     },
     "execution_count": 46,
     "metadata": {},
     "output_type": "execute_result"
    }
   ],
   "source": [
    "import tensorflow as tf\n",
    "\n",
    "config = tf.contrib.learn.RunConfig(tf_random_seed=42) # not shown in the config\n",
    "\n",
    "feature_cols = tf.contrib.learn.infer_real_valued_columns_from_input(X_train)\n",
    "dnn_clf = tf.contrib.learn.DNNClassifier(hidden_units=[300,100], n_classes=10,\n",
    "                                         feature_columns=feature_cols, config=config)\n",
    "dnn_clf = tf.contrib.learn.SKCompat(dnn_clf) # if TensorFlow >= 1.1\n",
    "dnn_clf.fit(X_train, y_train, batch_size=100, steps=4000)"
   ]
  },
  {
   "cell_type": "code",
   "execution_count": 47,
   "metadata": {},
   "outputs": [
    {
     "name": "stdout",
     "output_type": "stream",
     "text": [
      "INFO:tensorflow:Restoring parameters from /tmp/tmpybjtcisk/model.ckpt-4000\n"
     ]
    },
    {
     "data": {
      "text/plain": [
       "0.9798"
      ]
     },
     "execution_count": 47,
     "metadata": {},
     "output_type": "execute_result"
    }
   ],
   "source": [
    "from sklearn.metrics import accuracy_score\n",
    "\n",
    "y_pred = dnn_clf.predict(X_test)\n",
    "accuracy_score(y_test, y_pred['classes'])"
   ]
  },
  {
   "cell_type": "code",
   "execution_count": 45,
   "metadata": {},
   "outputs": [
    {
     "data": {
      "text/plain": [
       "0.069322799305319108"
      ]
     },
     "execution_count": 45,
     "metadata": {},
     "output_type": "execute_result"
    }
   ],
   "source": [
    "from sklearn.metrics import log_loss\n",
    "\n",
    "y_pred_proba = y_pred['probabilities']\n",
    "log_loss(y_test, y_pred_proba)"
   ]
  },
  {
   "cell_type": "code",
   "execution_count": null,
   "metadata": {
    "collapsed": true
   },
   "outputs": [],
   "source": []
  }
 ],
 "metadata": {
  "kernelspec": {
   "display_name": "Python 3",
   "language": "python",
   "name": "python3"
  },
  "language_info": {
   "codemirror_mode": {
    "name": "ipython",
    "version": 3
   },
   "file_extension": ".py",
   "mimetype": "text/x-python",
   "name": "python",
   "nbconvert_exporter": "python",
   "pygments_lexer": "ipython3",
   "version": "3.6.1"
  }
 },
 "nbformat": 4,
 "nbformat_minor": 2
}
